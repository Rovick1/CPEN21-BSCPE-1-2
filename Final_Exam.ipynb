{
  "nbformat": 4,
  "nbformat_minor": 0,
  "metadata": {
    "colab": {
      "name": "Final Exam.ipynb",
      "provenance": [],
      "authorship_tag": "ABX9TyO/hBz5Rapo/+DBUU6r9hFv",
      "include_colab_link": true
    },
    "kernelspec": {
      "name": "python3",
      "display_name": "Python 3"
    },
    "language_info": {
      "name": "python"
    }
  },
  "cells": [
    {
      "cell_type": "markdown",
      "metadata": {
        "id": "view-in-github",
        "colab_type": "text"
      },
      "source": [
        "<a href=\"https://colab.research.google.com/github/Rovick1/CPEN21-BSCPE-1-2/blob/main/Final_Exam.ipynb\" target=\"_parent\"><img src=\"https://colab.research.google.com/assets/colab-badge.svg\" alt=\"Open In Colab\"/></a>"
      ]
    },
    {
      "cell_type": "markdown",
      "source": [
        "###PROBLEM STATEMENT 1"
      ],
      "metadata": {
        "id": "zk3qn2Upu4rV"
      }
    },
    {
      "cell_type": "code",
      "execution_count": null,
      "metadata": {
        "colab": {
          "base_uri": "https://localhost:8080/"
        },
        "id": "YdqlVeIps7uA",
        "outputId": "f0f56478-cc11-4e38-d889-ab2b9f7806ff"
      },
      "outputs": [
        {
          "output_type": "stream",
          "name": "stdout",
          "text": [
            "Enter a number: 1\n",
            "Enter a number: 1\n",
            "Enter a number: 1\n",
            "Enter a number: 1\n",
            "Enter a number: 1\n",
            "Enter a number: 1\n",
            "Enter a number: 1\n",
            "Enter a number: 1\n",
            "Enter a number: 1\n",
            "Enter a number: 1\n",
            "TOTAL SUM OF NUMBERS LESS THAN 5 IS:  5\n"
          ]
        }
      ],
      "source": [
        "Total = 0\n",
        "for no in range (0,10):\n",
        "  no = int(input(\"Enter a number: \"))\n",
        "  Total = (no + Total)\n",
        "  Sum = Total - 5\n",
        "\n",
        "print(\"TOTAL SUM OF NUMBERS LESS THAN 5 IS: \", Sum)"
      ]
    },
    {
      "cell_type": "markdown",
      "source": [
        "###PROBLEM STATEMENT 2"
      ],
      "metadata": {
        "id": "RbUuvkPmvlHj"
      }
    },
    {
      "cell_type": "code",
      "source": [
        "counter = 0\n",
        "no = []\n",
        "while True:\n",
        "  if counter == 5:\n",
        "    print(\"The sum of first and last number is: \", no[0] + no[-1])\n",
        "    break\n",
        "  else:\n",
        "    g = int(input(\"Enter a number: \"))\n",
        "    no.append(g)\n",
        "    counter = counter +1"
      ],
      "metadata": {
        "colab": {
          "base_uri": "https://localhost:8080/"
        },
        "id": "OEa_nrtDyvNT",
        "outputId": "9d9def9c-0ea2-42b8-b7bf-7a116ad57225"
      },
      "execution_count": null,
      "outputs": [
        {
          "output_type": "stream",
          "name": "stdout",
          "text": [
            "Enter a number: 4\n",
            "Enter a number: 3\n",
            "Enter a number: 2\n",
            "Enter a number: 5\n",
            "Enter a number: 4\n",
            "The sum of first and last number is:  8\n"
          ]
        }
      ]
    },
    {
      "cell_type": "markdown",
      "source": [
        "###PROBLEM STATEMENT 3"
      ],
      "metadata": {
        "id": "L2xkVt_TXDxz"
      }
    },
    {
      "cell_type": "code",
      "source": [
        "Math = float(input(\"Enter Math Grade here: \"))\n",
        "Science = float(input (\"Enter Science Grade here: \"))\n",
        "English = float(input(\"Enter English Grade here: \"))\n",
        "Filipino = float(input(\"Enter Filipino Grade here: \"))\n",
        "PE = float(input(\"Enter PE Grade here: \"))\n",
        "\n",
        "g = [Math, Science, English, Filipino, PE]\n",
        "total = 0\n",
        "total = Math + Science + English + Filipino + PE\n",
        "A = total/5\n",
        "\n",
        "if A>=90:\n",
        "  print(\"Your Grade Remark is A.\")\n",
        "else:\n",
        "  if 89>=A>=80:\n",
        "    print(\"Your Grade Remark is B.\")\n",
        "  else: \n",
        "      if 79>=A>=70:\n",
        "        print(\"Your Grade Remark is C.\") \n",
        "      else:\n",
        "          if 69>=A>60:\n",
        "            print(\"Your Grade Remark is D.\")\n",
        "          else:\n",
        "              if A<=60:\n",
        "                print(\"Your Grade Remark is F.\")\n",
        "\n",
        "print(\"Total Average is: \", A)"
      ],
      "metadata": {
        "colab": {
          "base_uri": "https://localhost:8080/"
        },
        "id": "_XpZLTr5UOk7",
        "outputId": "fa912afa-16c8-454b-d2f3-1af2ffec4276"
      },
      "execution_count": null,
      "outputs": [
        {
          "output_type": "stream",
          "name": "stdout",
          "text": [
            "Enter Math Grade here: 90\n",
            "Enter Science Grade here: 92\n",
            "Enter English Grade here: 92.5\n",
            "Enter Filipino Grade here: 93\n",
            "Enter PE Grade here: 90\n",
            "Your Grade Remark is A.\n",
            "Total Average is:  91.5\n"
          ]
        }
      ]
    }
  ]
}