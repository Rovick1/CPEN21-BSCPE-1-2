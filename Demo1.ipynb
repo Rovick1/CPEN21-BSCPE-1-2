{
  "nbformat": 4,
  "nbformat_minor": 0,
  "metadata": {
    "colab": {
      "name": "Demo1.ipynb",
      "provenance": [],
      "authorship_tag": "ABX9TyPPe+otk95IQxAczJzPlRek",
      "include_colab_link": true
    },
    "kernelspec": {
      "name": "python3",
      "display_name": "Python 3"
    },
    "language_info": {
      "name": "python"
    }
  },
  "cells": [
    {
      "cell_type": "markdown",
      "metadata": {
        "id": "view-in-github",
        "colab_type": "text"
      },
      "source": [
        "<a href=\"https://colab.research.google.com/github/Rovick1/CPEN21-BSCPE-1-2/blob/main/Demo1.ipynb\" target=\"_parent\"><img src=\"https://colab.research.google.com/assets/colab-badge.svg\" alt=\"Open In Colab\"/></a>"
      ]
    },
    {
      "cell_type": "markdown",
      "metadata": {
        "id": "yiqd5hVLDphU"
      },
      "source": [
        "#Python Indention"
      ]
    },
    {
      "cell_type": "code",
      "metadata": {
        "colab": {
          "base_uri": "https://localhost:8080/"
        },
        "id": "2W0o1IizDv0T",
        "outputId": "ed2c6c48-6db3-4a36-b32f-14e54ba193da"
      },
      "source": [
        "if 5>2:\n",
        "  print(\"Five is greater than two\")"
      ],
      "execution_count": 2,
      "outputs": [
        {
          "output_type": "stream",
          "name": "stdout",
          "text": [
            "Five is greater than two\n"
          ]
        }
      ]
    },
    {
      "cell_type": "markdown",
      "metadata": {
        "id": "zhONfJP2EayL"
      },
      "source": [
        "##Python Comments"
      ]
    },
    {
      "cell_type": "code",
      "metadata": {
        "colab": {
          "base_uri": "https://localhost:8080/"
        },
        "id": "mlzY6RmWEfRT",
        "outputId": "160e68e3-0de2-43ef-83a0-63c7f0fa8860"
      },
      "source": [
        "print(\"Python Programming is enjoying\") #this is a comment"
      ],
      "execution_count": 3,
      "outputs": [
        {
          "output_type": "stream",
          "name": "stdout",
          "text": [
            "Python Programming is enjoying\n"
          ]
        }
      ]
    },
    {
      "cell_type": "markdown",
      "metadata": {
        "id": "zzoRyY7qFO57"
      },
      "source": [
        "###Python Variable"
      ]
    },
    {
      "cell_type": "code",
      "metadata": {
        "colab": {
          "base_uri": "https://localhost:8080/"
        },
        "id": "TjeaxXNOFUiB",
        "outputId": "4fa12f43-baad-485f-d769-3e78a0aed53d"
      },
      "source": [
        "x = 1\n",
        "x, y=0, -1\n",
        "x, y, z=0, -1, 2\n",
        "\n",
        "print(z)\n",
        "print(y)\n",
        "print(z)\n",
        "\n"
      ],
      "execution_count": 9,
      "outputs": [
        {
          "output_type": "stream",
          "name": "stdout",
          "text": [
            "2\n",
            "-1\n",
            "2\n"
          ]
        }
      ]
    },
    {
      "cell_type": "markdown",
      "metadata": {
        "id": "NU4rIZBlGh8z"
      },
      "source": [
        "####Casting"
      ]
    },
    {
      "cell_type": "code",
      "metadata": {
        "colab": {
          "base_uri": "https://localhost:8080/"
        },
        "id": "xrIMok72Gm56",
        "outputId": "98822331-d1d5-4f9c-9acc-ec976b3ef619"
      },
      "source": [
        "x=\"sally\"\n",
        "y=int(4)\n",
        "print(x)\n",
        "\n",
        "y=float(y)\n",
        "print(y)"
      ],
      "execution_count": 14,
      "outputs": [
        {
          "output_type": "stream",
          "name": "stdout",
          "text": [
            "sally\n",
            "4.0\n"
          ]
        }
      ]
    },
    {
      "cell_type": "markdown",
      "metadata": {
        "id": "-ZDGCT12Hjca"
      },
      "source": [
        "#Type () funtion"
      ]
    },
    {
      "cell_type": "code",
      "metadata": {
        "colab": {
          "base_uri": "https://localhost:8080/"
        },
        "id": "JPGdc5kSHsba",
        "outputId": "1f48906f-0adf-4c5f-ecc4-29b1f7ffd500"
      },
      "source": [
        "x=10\n",
        "y=\"Rov\"\n",
        "\n",
        "print(type(x))\n",
        "print(type(y))"
      ],
      "execution_count": 15,
      "outputs": [
        {
          "output_type": "stream",
          "name": "stdout",
          "text": [
            "<class 'int'>\n",
            "<class 'str'>\n"
          ]
        }
      ]
    },
    {
      "cell_type": "markdown",
      "metadata": {
        "id": "FTqDGzCIIYFx"
      },
      "source": [
        "#Case Sensitive"
      ]
    },
    {
      "cell_type": "code",
      "metadata": {
        "colab": {
          "base_uri": "https://localhost:8080/"
        },
        "id": "yo90-VuCH_dy",
        "outputId": "793d0419-8ccd-4f77-b6f3-56f80faf199f"
      },
      "source": [
        "X=5\n",
        "Y=\"rov\"\n",
        "\n",
        "print(x)\n",
        "print(y)\n",
        "print(X)\n",
        "print(Y)"
      ],
      "execution_count": 16,
      "outputs": [
        {
          "output_type": "stream",
          "name": "stdout",
          "text": [
            "10\n",
            "Rov\n",
            "5\n",
            "rov\n"
          ]
        }
      ]
    },
    {
      "cell_type": "markdown",
      "metadata": {
        "id": "TSZMeF-UIkzy"
      },
      "source": [
        "##Mutiple Variables"
      ]
    },
    {
      "cell_type": "code",
      "metadata": {
        "colab": {
          "base_uri": "https://localhost:8080/"
        },
        "id": "zEqz7xnXIfYx",
        "outputId": "7910c0f2-c155-4826-84b2-c64d4a4a2aba"
      },
      "source": [
        "x, y, z=5,2,1\n",
        "\n",
        "print(x)\n",
        "print(y)\n",
        "print(z)"
      ],
      "execution_count": 23,
      "outputs": [
        {
          "output_type": "stream",
          "name": "stdout",
          "text": [
            "5\n",
            "2\n",
            "1\n"
          ]
        }
      ]
    },
    {
      "cell_type": "markdown",
      "metadata": {
        "id": "1wtRbGejJlmm"
      },
      "source": [
        "##One to Multiple Variables"
      ]
    },
    {
      "cell_type": "code",
      "metadata": {
        "colab": {
          "base_uri": "https://localhost:8080/"
        },
        "id": "i6Q1r8D8JkYA",
        "outputId": "62b9c6aa-b8e5-4447-8214-73e9dfdb9e06"
      },
      "source": [
        "x=y=z=\"rovick\"\n",
        "\n",
        "print(x)\n",
        "print(y)\n",
        "print(z)"
      ],
      "execution_count": 24,
      "outputs": [
        {
          "output_type": "stream",
          "name": "stdout",
          "text": [
            "rovick\n",
            "rovick\n",
            "rovick\n"
          ]
        }
      ]
    },
    {
      "cell_type": "markdown",
      "metadata": {
        "id": "ithMhA6MKB8W"
      },
      "source": [
        "##output variables"
      ]
    },
    {
      "cell_type": "code",
      "metadata": {
        "colab": {
          "base_uri": "https://localhost:8080/"
        },
        "id": "XlRlgoyLKG-W",
        "outputId": "6feaf398-e55e-4501-d5a6-365f333fe903"
      },
      "source": [
        "z=\"causaren\"\n",
        "\n",
        "print(\"jan rovick \" + z)"
      ],
      "execution_count": 26,
      "outputs": [
        {
          "output_type": "stream",
          "name": "stdout",
          "text": [
            "jan rovick causaren\n"
          ]
        }
      ]
    },
    {
      "cell_type": "code",
      "metadata": {
        "colab": {
          "base_uri": "https://localhost:8080/"
        },
        "id": "PsC6LqJ6KqsO",
        "outputId": "b07aca97-1e49-450d-bb90-27212da70995"
      },
      "source": [
        "x=\"jan rovick \"\n",
        "\n",
        "print(x+z)"
      ],
      "execution_count": 30,
      "outputs": [
        {
          "output_type": "stream",
          "name": "stdout",
          "text": [
            "jan rovick causaren\n"
          ]
        }
      ]
    },
    {
      "cell_type": "markdown",
      "metadata": {
        "id": "APUBM84FKVjx"
      },
      "source": [
        "##arithmetic operation"
      ]
    },
    {
      "cell_type": "code",
      "metadata": {
        "colab": {
          "base_uri": "https://localhost:8080/"
        },
        "id": "aM2uWFQZLGHN",
        "outputId": "dbe37f29-609c-4e87-f4f3-3284c5de8fcb"
      },
      "source": [
        "x=5\n",
        "y=7\n",
        "z=10\n",
        "\n",
        "print(x+y)\n",
        "print(x*y)"
      ],
      "execution_count": 34,
      "outputs": [
        {
          "output_type": "stream",
          "name": "stdout",
          "text": [
            "12\n",
            "35\n"
          ]
        }
      ]
    },
    {
      "cell_type": "code",
      "metadata": {
        "colab": {
          "base_uri": "https://localhost:8080/"
        },
        "id": "i8jAk4H9LrJX",
        "outputId": "900a6e90-9f84-4da6-da3a-721ccb0a35c8"
      },
      "source": [
        "y==x"
      ],
      "execution_count": 40,
      "outputs": [
        {
          "output_type": "execute_result",
          "data": {
            "text/plain": [
              "False"
            ]
          },
          "metadata": {},
          "execution_count": 40
        }
      ]
    },
    {
      "cell_type": "code",
      "metadata": {
        "colab": {
          "base_uri": "https://localhost:8080/"
        },
        "id": "_t_2f77GMX0r",
        "outputId": "ecda08bd-79c5-4618-f86b-2c9961297c35"
      },
      "source": [
        "x<6 and x<10"
      ],
      "execution_count": 41,
      "outputs": [
        {
          "output_type": "execute_result",
          "data": {
            "text/plain": [
              "False"
            ]
          },
          "metadata": {},
          "execution_count": 41
        }
      ]
    },
    {
      "cell_type": "code",
      "metadata": {
        "colab": {
          "base_uri": "https://localhost:8080/"
        },
        "id": "yuBWHJbHMmQm",
        "outputId": "6f1eb11a-72ff-4f4b-b942-809975efac9a"
      },
      "source": [
        "y<10 or y<20"
      ],
      "execution_count": 42,
      "outputs": [
        {
          "output_type": "execute_result",
          "data": {
            "text/plain": [
              "True"
            ]
          },
          "metadata": {},
          "execution_count": 42
        }
      ]
    },
    {
      "cell_type": "code",
      "metadata": {
        "colab": {
          "base_uri": "https://localhost:8080/"
        },
        "id": "OogwHGI1Mw7w",
        "outputId": "5883d567-033b-44b8-a994-fed072cc79be"
      },
      "source": [
        "not(y<10 or y<20)"
      ],
      "execution_count": 43,
      "outputs": [
        {
          "output_type": "execute_result",
          "data": {
            "text/plain": [
              "False"
            ]
          },
          "metadata": {},
          "execution_count": 43
        }
      ]
    },
    {
      "cell_type": "code",
      "metadata": {
        "colab": {
          "base_uri": "https://localhost:8080/"
        },
        "id": "oET0pE14M3do",
        "outputId": "3f3748b3-fb0c-4f11-cb4a-ab0069396f11"
      },
      "source": [
        "y is x"
      ],
      "execution_count": 44,
      "outputs": [
        {
          "output_type": "execute_result",
          "data": {
            "text/plain": [
              "False"
            ]
          },
          "metadata": {},
          "execution_count": 44
        }
      ]
    },
    {
      "cell_type": "code",
      "metadata": {
        "colab": {
          "base_uri": "https://localhost:8080/"
        },
        "id": "yFwN82_oM8rA",
        "outputId": "6294efeb-3c8e-4a9d-99c1-853e585befbd"
      },
      "source": [
        "y is y"
      ],
      "execution_count": 45,
      "outputs": [
        {
          "output_type": "execute_result",
          "data": {
            "text/plain": [
              "True"
            ]
          },
          "metadata": {},
          "execution_count": 45
        }
      ]
    },
    {
      "cell_type": "code",
      "metadata": {
        "colab": {
          "base_uri": "https://localhost:8080/"
        },
        "id": "_JYUewlYM_dk",
        "outputId": "a788d1b3-4bf9-42c9-b27d-e397ed3908c6"
      },
      "source": [
        "y is not y"
      ],
      "execution_count": 46,
      "outputs": [
        {
          "output_type": "execute_result",
          "data": {
            "text/plain": [
              "False"
            ]
          },
          "metadata": {},
          "execution_count": 46
        }
      ]
    },
    {
      "cell_type": "code",
      "metadata": {
        "colab": {
          "base_uri": "https://localhost:8080/"
        },
        "id": "lOAkVHa4NCrN",
        "outputId": "00a06626-d6de-48fb-fa22-396cc517612c"
      },
      "source": [
        "y is not x"
      ],
      "execution_count": 47,
      "outputs": [
        {
          "output_type": "execute_result",
          "data": {
            "text/plain": [
              "True"
            ]
          },
          "metadata": {},
          "execution_count": 47
        }
      ]
    }
  ]
}