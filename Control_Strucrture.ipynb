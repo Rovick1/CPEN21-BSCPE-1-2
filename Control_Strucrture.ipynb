{
  "nbformat": 4,
  "nbformat_minor": 0,
  "metadata": {
    "colab": {
      "name": "Control Strucrture.ipynb",
      "provenance": [],
      "collapsed_sections": [],
      "authorship_tag": "ABX9TyN7OIcCZGu0x4tXttd78MnW",
      "include_colab_link": true
    },
    "kernelspec": {
      "name": "python3",
      "display_name": "Python 3"
    },
    "language_info": {
      "name": "python"
    }
  },
  "cells": [
    {
      "cell_type": "markdown",
      "metadata": {
        "id": "view-in-github",
        "colab_type": "text"
      },
      "source": [
        "<a href=\"https://colab.research.google.com/github/Rovick1/CPEN21-BSCPE-1-2/blob/main/Control_Strucrture.ipynb\" target=\"_parent\"><img src=\"https://colab.research.google.com/assets/colab-badge.svg\" alt=\"Open In Colab\"/></a>"
      ]
    },
    {
      "cell_type": "markdown",
      "metadata": {
        "id": "CeDETI9bHam7"
      },
      "source": [
        "##If Statement"
      ]
    },
    {
      "cell_type": "code",
      "metadata": {
        "colab": {
          "base_uri": "https://localhost:8080/"
        },
        "id": "oVijMCoiHY1D",
        "outputId": "c2ea130e-1af8-4c1f-98aa-ab240dfcd2a7"
      },
      "source": [
        "a=12\n",
        "b=100\n",
        "\n",
        "if b>a:\n",
        "  print(\"b is greater than a\")"
      ],
      "execution_count": 2,
      "outputs": [
        {
          "output_type": "stream",
          "name": "stdout",
          "text": [
            "b is greater than a\n"
          ]
        }
      ]
    },
    {
      "cell_type": "markdown",
      "metadata": {
        "id": "2XF1UaX6IVNS"
      },
      "source": [
        "##Elif Statement"
      ]
    },
    {
      "cell_type": "code",
      "metadata": {
        "colab": {
          "base_uri": "https://localhost:8080/"
        },
        "id": "Xtq9flbWIYWK",
        "outputId": "c2c046ab-c0c1-4963-8dea-f30fd06f6773"
      },
      "source": [
        "a=12\n",
        "b=100\n",
        "\n",
        "if b>a:\n",
        "  print(\"b is greater than a\")\n",
        "elif a>b:\n",
        "  print(\"a is greater than b\")"
      ],
      "execution_count": 3,
      "outputs": [
        {
          "output_type": "stream",
          "name": "stdout",
          "text": [
            "b is greater than a\n"
          ]
        }
      ]
    },
    {
      "cell_type": "markdown",
      "metadata": {
        "id": "TsqPRbkQLDB7"
      },
      "source": [
        "##Else Statement"
      ]
    },
    {
      "cell_type": "code",
      "metadata": {
        "colab": {
          "base_uri": "https://localhost:8080/"
        },
        "id": "dZ0hmxlULDmT",
        "outputId": "4a27ee5e-7036-4fc9-990f-f65cc6f97aa4"
      },
      "source": [
        "a = 100             \n",
        "b = 100\n",
        "\n",
        "if b > a :\n",
        "  print(\"b is greater than a\")\n",
        "elif a > b :\n",
        "  print(\"a is greater than b\")\n",
        "else :\n",
        "  print(\"a is equal to b\")"
      ],
      "execution_count": 4,
      "outputs": [
        {
          "output_type": "stream",
          "name": "stdout",
          "text": [
            "a is equal to b\n"
          ]
        }
      ]
    },
    {
      "cell_type": "markdown",
      "metadata": {
        "id": "tsUJPftUP2xs"
      },
      "source": [
        "##Short Hand If Statement"
      ]
    },
    {
      "cell_type": "code",
      "metadata": {
        "colab": {
          "base_uri": "https://localhost:8080/"
        },
        "id": "CZ8UbSy_P2IN",
        "outputId": "ee371124-8ca3-4afc-823f-b4fc95ff2a98"
      },
      "source": [
        "a = 45\n",
        "b = 30\n",
        "\n",
        "if a > b: print(\"a is greater than b\") "
      ],
      "execution_count": 5,
      "outputs": [
        {
          "output_type": "stream",
          "name": "stdout",
          "text": [
            "a is greater than b\n"
          ]
        }
      ]
    },
    {
      "cell_type": "markdown",
      "metadata": {
        "id": "M4hqifwsP7rM"
      },
      "source": [
        "##Short Hand Else Statement"
      ]
    },
    {
      "cell_type": "code",
      "metadata": {
        "colab": {
          "base_uri": "https://localhost:8080/"
        },
        "id": "FqkFOx2dQAUc",
        "outputId": "6e0de798-cd03-4812-f93b-5a457222c779"
      },
      "source": [
        "a = 45\n",
        "b = 30\n",
        "\n",
        "print(\"a is greater than b\") if a > b else print(\"b is greater than a\") "
      ],
      "execution_count": 6,
      "outputs": [
        {
          "output_type": "stream",
          "name": "stdout",
          "text": [
            "a is greater than b\n"
          ]
        }
      ]
    },
    {
      "cell_type": "markdown",
      "metadata": {
        "id": "1HGP7lsAQDJs"
      },
      "source": [
        "##And logic condition"
      ]
    },
    {
      "cell_type": "code",
      "metadata": {
        "colab": {
          "base_uri": "https://localhost:8080/"
        },
        "id": "THwfFvAjQGYs",
        "outputId": "0c9dda5c-e15a-455b-b448-f301a264b5da"
      },
      "source": [
        "x = 7\n",
        "\n",
        "if x > 5 and x > 6 :\n",
        "  print(\"Both conditions are true\")"
      ],
      "execution_count": 7,
      "outputs": [
        {
          "output_type": "stream",
          "name": "stdout",
          "text": [
            "Both conditions are true\n"
          ]
        }
      ]
    },
    {
      "cell_type": "markdown",
      "metadata": {
        "id": "y5eo_MjlQIRV"
      },
      "source": [
        "##Or logic condition"
      ]
    },
    {
      "cell_type": "code",
      "metadata": {
        "colab": {
          "base_uri": "https://localhost:8080/"
        },
        "id": "HZ2R-DPWQMK0",
        "outputId": "f7d1dac9-5cb3-478a-e73a-3a012045ceba"
      },
      "source": [
        "x = 18\n",
        "\n",
        "if x > 18 or x < 15:\n",
        "  print(\"True\")\n",
        "else:\n",
        "  print(\"False\")"
      ],
      "execution_count": 8,
      "outputs": [
        {
          "output_type": "stream",
          "name": "stdout",
          "text": [
            "False\n"
          ]
        }
      ]
    },
    {
      "cell_type": "code",
      "metadata": {
        "colab": {
          "base_uri": "https://localhost:8080/"
        },
        "id": "Pa8H5MQxQOPd",
        "outputId": "87203157-4192-43cc-c3c6-f2de86275337"
      },
      "source": [
        "#Nested If\n",
        "if x > 10:\n",
        "  print(\"Above 10\")\n",
        "  if x < 20:\n",
        "    print(\"Above 20\")\n",
        "  else:\n",
        "    print((\"below 20\"))\n",
        "else:\n",
        "  print(\"less than 10\")"
      ],
      "execution_count": 9,
      "outputs": [
        {
          "output_type": "stream",
          "name": "stdout",
          "text": [
            "Above 10\n",
            "Above 20\n"
          ]
        }
      ]
    },
    {
      "cell_type": "markdown",
      "metadata": {
        "id": "_zfPzciaQQO9"
      },
      "source": [
        "#Example 1"
      ]
    },
    {
      "cell_type": "code",
      "metadata": {
        "colab": {
          "base_uri": "https://localhost:8080/"
        },
        "id": "d8omII0dQTfF",
        "outputId": "8167e5c9-1ef2-4e95-e338-1bb7268952e0"
      },
      "source": [
        "age = int(input(\"Enter your age: \"))\n",
        "\n",
        "if age >= 18:\n",
        "  print(\"You are qualified to vote\")\n",
        "else:\n",
        "  print(\"You are not qualified to vote\")"
      ],
      "execution_count": 10,
      "outputs": [
        {
          "output_type": "stream",
          "name": "stdout",
          "text": [
            "Enter your age: 18\n",
            "You are qualified to vote\n"
          ]
        }
      ]
    },
    {
      "cell_type": "markdown",
      "metadata": {
        "id": "X2CSKaCkQhrU"
      },
      "source": [
        "##Example 2"
      ]
    },
    {
      "cell_type": "code",
      "metadata": {
        "colab": {
          "base_uri": "https://localhost:8080/"
        },
        "id": "dOTWK8VUQXQ1",
        "outputId": "1f526eaa-6662-4819-9dbd-63a4264f3509"
      },
      "source": [
        "number = float(input(\"Enter a number: \"))\n",
        "\n",
        "if number == 0:\n",
        "  print(\"Zero\")\n",
        "elif number > 0:\n",
        "  print(\"Positive\")\n",
        "else:\n",
        "  print(\"Negative\")"
      ],
      "execution_count": 11,
      "outputs": [
        {
          "output_type": "stream",
          "name": "stdout",
          "text": [
            "Enter a number: 1\n",
            "Positive\n"
          ]
        }
      ]
    },
    {
      "cell_type": "markdown",
      "metadata": {
        "id": "Iarz_Ep5QWj9"
      },
      "source": [
        "Example 3"
      ]
    },
    {
      "cell_type": "code",
      "metadata": {
        "colab": {
          "base_uri": "https://localhost:8080/"
        },
        "id": "Qq-2TRrcSBUl",
        "outputId": "f344de95-c50e-47e0-84bc-8a7865fc9976"
      },
      "source": [
        "num=float(input(\"Enter your grade:\"))\n",
        "\n",
        "if num>=75:\n",
        "  print(\"Passed\")\n",
        "elif 74<=num<75:\n",
        "  print(\"Remedial\")\n",
        "else:\n",
        "  print(\"Failed\")"
      ],
      "execution_count": 17,
      "outputs": [
        {
          "output_type": "stream",
          "name": "stdout",
          "text": [
            "Enter your grade:74\n",
            "Remedial\n"
          ]
        }
      ]
    }
  ]
}