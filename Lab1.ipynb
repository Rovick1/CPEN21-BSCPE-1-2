{
  "nbformat": 4,
  "nbformat_minor": 0,
  "metadata": {
    "colab": {
      "name": "Lab1.ipynb",
      "provenance": [],
      "authorship_tag": "ABX9TyOKgNh5YQYQPDiYbWk9B5on",
      "include_colab_link": true
    },
    "kernelspec": {
      "name": "python3",
      "display_name": "Python 3"
    },
    "language_info": {
      "name": "python"
    }
  },
  "cells": [
    {
      "cell_type": "markdown",
      "metadata": {
        "id": "view-in-github",
        "colab_type": "text"
      },
      "source": [
        "<a href=\"https://colab.research.google.com/github/Rovick1/CPEN21-BSCPE-1-2/blob/main/Lab1.ipynb\" target=\"_parent\"><img src=\"https://colab.research.google.com/assets/colab-badge.svg\" alt=\"Open In Colab\"/></a>"
      ]
    },
    {
      "cell_type": "code",
      "metadata": {
        "colab": {
          "base_uri": "https://localhost:8080/"
        },
        "id": "pjMslopk7Gk1",
        "outputId": "32e7fe16-84e4-4e13-fcdd-2e61684e5d6f"
      },
      "source": [
        "print(\"Welcome to Python Programming\")\n",
        "\n",
        "print(\"What is your full name?\")\n",
        "name = input()\n",
        "\n",
        "print(\"How old are you?\")\n",
        "age = input()\n",
        "\n",
        "print(\"What is your Address?\")\n",
        "address = input()\n",
        "\n",
        "\n",
        "print(\"Helloo! \" + name + \" :)\")\n",
        "print(\"and you are \" + age)\n",
        "print(\"Ohh! you from \" + address + \" That's nice\")\n",
        "print(\"Nice to meet you! :)\")\n"
      ],
      "execution_count": 19,
      "outputs": [
        {
          "output_type": "stream",
          "name": "stdout",
          "text": [
            "Welcome to Python Programming\n",
            "What is your full name?\n",
            "Jan Rovick Causaren\n",
            "How old are you?\n",
            "18\n",
            "What is your Address?\n",
            "Maitim 1st, Amadeo, Cavite\n",
            "Helloo! Jan Rovick Causaren :)\n",
            "and you are 18\n",
            "Ohh! you from Maitim 1st, Amadeo, Cavite That's nice\n",
            "Nice to meet you! :)\n"
          ]
        }
      ]
    },
    {
      "cell_type": "code",
      "metadata": {
        "colab": {
          "base_uri": "https://localhost:8080/"
        },
        "id": "2s1PfVTd9O9T",
        "outputId": "295b9120-d681-424d-8873-edeb1190bca9"
      },
      "source": [
        "print(\"Welcom to Python Programming\")\n",
        "print(\"name: Jan Rovick Causaren\")\n",
        "print(\"age: 18\")\n",
        "print(\"address: Maitim 1st, Amadeo, Cavite\")"
      ],
      "execution_count": 18,
      "outputs": [
        {
          "output_type": "stream",
          "name": "stdout",
          "text": [
            "Welcom to Python Programming\n",
            "name: Jan Rovick Causaren\n",
            "age: 18\n",
            "address: Maitim 1st, Amadeo, Cavite\n"
          ]
        }
      ]
    }
  ]
}