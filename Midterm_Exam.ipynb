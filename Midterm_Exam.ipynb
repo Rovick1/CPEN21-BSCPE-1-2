{
  "nbformat": 4,
  "nbformat_minor": 0,
  "metadata": {
    "colab": {
      "name": "Midterm Exam.ipynb",
      "provenance": [],
      "authorship_tag": "ABX9TyMpe9ho/aG3cGncmZOXEgKV",
      "include_colab_link": true
    },
    "kernelspec": {
      "name": "python3",
      "display_name": "Python 3"
    },
    "language_info": {
      "name": "python"
    }
  },
  "cells": [
    {
      "cell_type": "markdown",
      "metadata": {
        "id": "view-in-github",
        "colab_type": "text"
      },
      "source": [
        "<a href=\"https://colab.research.google.com/github/Rovick1/CPEN21-BSCPE-1-2/blob/main/Midterm_Exam.ipynb\" target=\"_parent\"><img src=\"https://colab.research.google.com/assets/colab-badge.svg\" alt=\"Open In Colab\"/></a>"
      ]
    },
    {
      "cell_type": "markdown",
      "metadata": {
        "id": "FixTcusUA0fA"
      },
      "source": [
        "##Midterm Exam"
      ]
    },
    {
      "cell_type": "markdown",
      "metadata": {
        "id": "kzTRE5HEClwo"
      },
      "source": [
        "##Promblem 1"
      ]
    },
    {
      "cell_type": "code",
      "metadata": {
        "colab": {
          "base_uri": "https://localhost:8080/"
        },
        "id": "WNHKlzaUC5M_",
        "outputId": "c0d31824-1596-49b9-8cc4-d68a92edb415"
      },
      "source": [
        "fullname =\"Jan Rovick M. Causaren\"\n",
        "studentnumber =\" 202101632\"\n",
        "age =\" 18\"\n",
        "birthday =\" anuary 16, 2003\"\n",
        "address =\" Maitim 1st, Amadeo\"\n",
        "course =\" BSCpE 1-2\"\n",
        "\n",
        "print(fullname+studentnumber+age+birthday+address+course)\n",
        "\n"
      ],
      "execution_count": 22,
      "outputs": [
        {
          "output_type": "stream",
          "name": "stdout",
          "text": [
            "Jan Rovick M. Causaren 202101632 18 anuary 16, 2003 Maitim 1st, Amadeo BSCpE 1-2\n"
          ]
        }
      ]
    },
    {
      "cell_type": "markdown",
      "metadata": {
        "id": "-QxfroGAF6mn"
      },
      "source": [
        "##Problem 2"
      ]
    },
    {
      "cell_type": "code",
      "metadata": {
        "colab": {
          "base_uri": "https://localhost:8080/"
        },
        "id": "ExwuNxIFNtJY",
        "outputId": "736cacd0-dcd0-46c0-8742-7d215ceb53e4"
      },
      "source": [
        "n=4\n",
        "answ=\"Y\"\n",
        "\n",
        "print(bool(2<n) and (n<6))   #a\n",
        "print(bool(2<n) or (n==6)) #b\n",
        "print(bool(not (2<n) or (n==6))) #c\n",
        "print(bool(not (n<6))) #d\n",
        "print(bool(answ==\"Y\") or (answ==\"y\")) #e\n",
        "print(bool(answ==\"Y\") and (answ==\"y\")) #f\n",
        "print(bool(not(answ==\"y\"))) #g\n",
        "print(bool((2<n) and (n==5+1)) or (answ==\"No\")) #h\n",
        "print(bool((n==2) and (n==7)) or (answ==\"Y\")) #i\n",
        "print(bool(n==2) and ((n==7) or (answ==\"Y\"))) #j\n"
      ],
      "execution_count": 50,
      "outputs": [
        {
          "output_type": "stream",
          "name": "stdout",
          "text": [
            "True\n",
            "True\n",
            "False\n",
            "False\n",
            "True\n",
            "False\n",
            "True\n",
            "False\n",
            "True\n",
            "False\n"
          ]
        }
      ]
    },
    {
      "cell_type": "markdown",
      "metadata": {
        "id": "HjmWQPXAGEwI"
      },
      "source": [
        "##Problem 3"
      ]
    },
    {
      "cell_type": "code",
      "metadata": {
        "colab": {
          "base_uri": "https://localhost:8080/"
        },
        "id": "x0v1m-J8Ggc2",
        "outputId": "a0f22ef2-78f3-4398-9896-f4e39e0a265f"
      },
      "source": [
        "x=2\n",
        "y=-3\n",
        "w=7\n",
        "z=-10\n",
        "\n",
        "print(w/y)\n",
        "print(w/y/x)\n",
        "print(z/y%x)\n",
        "print(x%-y*w)\n",
        "print(x%y)\n",
        "print(z%w-y/x*5+5)\n",
        "print(9-x%(2+y))\n",
        "print(z//w)\n",
        "print((2+y)**2)\n",
        "print(w/x*2)"
      ],
      "execution_count": 24,
      "outputs": [
        {
          "output_type": "stream",
          "name": "stdout",
          "text": [
            "-2.3333333333333335\n",
            "-1.1666666666666667\n",
            "1.3333333333333335\n",
            "14\n",
            "-1\n",
            "16.5\n",
            "9\n",
            "-2\n",
            "1\n",
            "7.0\n"
          ]
        }
      ]
    }
  ]
}